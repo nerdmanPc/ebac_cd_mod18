{
 "cells": [
  {
   "cell_type": "markdown",
   "metadata": {},
   "source": [
    "# Regressão Logística I\n",
    "## Tarefa II\n",
    "\n",
    "Vamos trabalhar com a mesma base do exercício anterior, mas vamos aprofundar um pouco mais a nossa regressão."
   ]
  },
  {
   "cell_type": "code",
   "execution_count": 174,
   "metadata": {},
   "outputs": [],
   "source": [
    "import pandas as pd\n",
    "import seaborn as sns\n",
    "import matplotlib.pyplot as plt\n",
    "import numpy as np\n",
    "\n",
    "import statsmodels.formula.api as smf"
   ]
  },
  {
   "cell_type": "code",
   "execution_count": 175,
   "metadata": {
    "tags": []
   },
   "outputs": [
    {
     "data": {
      "text/plain": [
       "age              0\n",
       "sex              0\n",
       "cp               0\n",
       "trestbps         0\n",
       "chol            27\n",
       "fbs             89\n",
       "restecg          2\n",
       "thalch           0\n",
       "exang            0\n",
       "oldpeak          7\n",
       "slope          253\n",
       "ca             552\n",
       "thal           431\n",
       "num              0\n",
       "flag_doente      0\n",
       "dtype: int64"
      ]
     },
     "execution_count": 175,
     "metadata": {},
     "output_type": "execute_result"
    }
   ],
   "source": [
    "df = pd.read_csv('./dados/heart_disease_uci.csv').drop(['id', 'dataset'], axis='columns')\n",
    "df['flag_doente'] = (df['num']!=0).astype('int64')\n",
    "df.dropna(axis='index', subset=['trestbps'], inplace=True)\n",
    "#df.head()\n",
    "df.isna().sum()"
   ]
  },
  {
   "cell_type": "markdown",
   "metadata": {},
   "source": [
    "A descrição das variáveis está recortada abaixo:\n",
    "- age: idade do paciente em anos\n",
    "- sex: sexo (1 = male; 0 = female)  \n",
    "- cp: tipo de dor no peito\n",
    "  - 1: angina típica\n",
    "  - 2: angina atípica\n",
    "  - 3: dor não-angina\n",
    "  - 4: assintomático\n",
    "- trestbps: pressão sanguínea em repouso (em mm Hg na admissão ao hospital\n",
    "- chol: colesterol sérico em mg/dl\n",
    "- fbs: (açúcar no sangue em jejum > 120 mg/dl) (1 = True; 0 = False)\n",
    "- restecg: resultados eletrocardiográficos em repouso\n",
    "  - 0: normal\n",
    "  - 1: tendo anormalidade da onda ST-T (Inversões de onda T e / ou ST com elevação ou depressão de > 0.05 mV)\n",
    "  - 2: mostrando hipertrofia ventricular esquerda provável ou definitiva pelos critérios de Estes\n",
    "- thalach: frequência cardíaca máxima alcançada\n",
    "- exang: angina induzida por exercício(1 = sim; 0 = não)\n",
    "- oldpeak = Depressão de ST induzida por exercício em relação ao repouso\n",
    "- slope: Depressão de ST induzida por exercício em relação ao repouso\n",
    "  - 1: inclinação ascendente\n",
    "  - 2: estável\n",
    "  - 3: inclinação descendente\n",
    "- ca: número de vasos principais (0-3) coloridos por fluorosopia\n",
    "- thal: 3 = normal; 6 = defeito corrigido; 7 = defeito reversível\n",
    "- num: diagnóstico de doença cardíaga (status de doença angiográfica)"
   ]
  },
  {
   "cell_type": "code",
   "execution_count": 176,
   "metadata": {},
   "outputs": [
    {
     "name": "stdout",
     "output_type": "stream",
     "text": [
      "<class 'pandas.core.frame.DataFrame'>\n",
      "Int64Index: 861 entries, 0 to 919\n",
      "Data columns (total 15 columns):\n",
      " #   Column       Non-Null Count  Dtype  \n",
      "---  ------       --------------  -----  \n",
      " 0   age          861 non-null    int64  \n",
      " 1   sex          861 non-null    object \n",
      " 2   cp           861 non-null    object \n",
      " 3   trestbps     861 non-null    float64\n",
      " 4   chol         834 non-null    float64\n",
      " 5   fbs          772 non-null    object \n",
      " 6   restecg      859 non-null    object \n",
      " 7   thalch       861 non-null    float64\n",
      " 8   exang        861 non-null    object \n",
      " 9   oldpeak      854 non-null    float64\n",
      " 10  slope        608 non-null    object \n",
      " 11  ca           309 non-null    float64\n",
      " 12  thal         430 non-null    object \n",
      " 13  num          861 non-null    int64  \n",
      " 14  flag_doente  861 non-null    int64  \n",
      "dtypes: float64(5), int64(3), object(7)\n",
      "memory usage: 107.6+ KB\n"
     ]
    }
   ],
   "source": [
    "df.info()"
   ]
  },
  {
   "cell_type": "markdown",
   "metadata": {},
   "source": [
    "1. Considere o script que monta a análise bivariada que você fez na tarefa anterior. Transforme esse script em uma função, que deve:\n",
    "- Ter como parâmetros de entrada:\n",
    "    - Um *dataframe* contendo os dados a serem avaliados\n",
    "    - Um *string* contendo o nome da variável resposta\n",
    "    - Um *string* contendo o nome da variável explicativa\n",
    "- E deve retornar um *dataframe* com os dados da bivariada. \n",
    "**Monte** a mesma bivariada pelo menos três variáveis qualitativas do *data-frame*. Qual delas parece discriminar mais o risco?"
   ]
  },
  {
   "cell_type": "code",
   "execution_count": 177,
   "metadata": {},
   "outputs": [],
   "source": [
    "def analise_bivariada(df, nome_x, nome_y):\n",
    "    tab = pd.crosstab(df[nome_x], df[nome_y], margins=True)\n",
    "    tab['prob_doente'] = tab[1]/tab['All']\n",
    "    tab['chance_doente'] = tab[1]/tab[0]\n",
    "    tab['razao_chance'] = tab['chance_doente']/tab['chance_doente']['All']\n",
    "    tab['logito'] = np.log(tab['chance_doente'])\n",
    "    tab['woe'] = np.log(tab['razao_chance'])\n",
    "    return tab"
   ]
  },
  {
   "cell_type": "code",
   "execution_count": 178,
   "metadata": {},
   "outputs": [
    {
     "data": {
      "text/html": [
       "<div>\n",
       "<style scoped>\n",
       "    .dataframe tbody tr th:only-of-type {\n",
       "        vertical-align: middle;\n",
       "    }\n",
       "\n",
       "    .dataframe tbody tr th {\n",
       "        vertical-align: top;\n",
       "    }\n",
       "\n",
       "    .dataframe thead th {\n",
       "        text-align: right;\n",
       "    }\n",
       "</style>\n",
       "<table border=\"1\" class=\"dataframe\">\n",
       "  <thead>\n",
       "    <tr style=\"text-align: right;\">\n",
       "      <th>flag_doente</th>\n",
       "      <th>0</th>\n",
       "      <th>1</th>\n",
       "      <th>All</th>\n",
       "      <th>prob_doente</th>\n",
       "      <th>chance_doente</th>\n",
       "      <th>razao_chance</th>\n",
       "      <th>logito</th>\n",
       "      <th>woe</th>\n",
       "    </tr>\n",
       "    <tr>\n",
       "      <th>cp</th>\n",
       "      <th></th>\n",
       "      <th></th>\n",
       "      <th></th>\n",
       "      <th></th>\n",
       "      <th></th>\n",
       "      <th></th>\n",
       "      <th></th>\n",
       "      <th></th>\n",
       "    </tr>\n",
       "  </thead>\n",
       "  <tbody>\n",
       "    <tr>\n",
       "      <th>asymptomatic</th>\n",
       "      <td>99</td>\n",
       "      <td>368</td>\n",
       "      <td>467</td>\n",
       "      <td>0.788009</td>\n",
       "      <td>3.717172</td>\n",
       "      <td>3.092371</td>\n",
       "      <td>1.312963</td>\n",
       "      <td>1.128938</td>\n",
       "    </tr>\n",
       "    <tr>\n",
       "      <th>atypical angina</th>\n",
       "      <td>144</td>\n",
       "      <td>23</td>\n",
       "      <td>167</td>\n",
       "      <td>0.137725</td>\n",
       "      <td>0.159722</td>\n",
       "      <td>0.132875</td>\n",
       "      <td>-1.834319</td>\n",
       "      <td>-2.018344</td>\n",
       "    </tr>\n",
       "    <tr>\n",
       "      <th>non-anginal</th>\n",
       "      <td>125</td>\n",
       "      <td>60</td>\n",
       "      <td>185</td>\n",
       "      <td>0.324324</td>\n",
       "      <td>0.480000</td>\n",
       "      <td>0.399319</td>\n",
       "      <td>-0.733969</td>\n",
       "      <td>-0.917994</td>\n",
       "    </tr>\n",
       "    <tr>\n",
       "      <th>typical angina</th>\n",
       "      <td>23</td>\n",
       "      <td>19</td>\n",
       "      <td>42</td>\n",
       "      <td>0.452381</td>\n",
       "      <td>0.826087</td>\n",
       "      <td>0.687234</td>\n",
       "      <td>-0.191055</td>\n",
       "      <td>-0.375080</td>\n",
       "    </tr>\n",
       "    <tr>\n",
       "      <th>All</th>\n",
       "      <td>391</td>\n",
       "      <td>470</td>\n",
       "      <td>861</td>\n",
       "      <td>0.545877</td>\n",
       "      <td>1.202046</td>\n",
       "      <td>1.000000</td>\n",
       "      <td>0.184025</td>\n",
       "      <td>0.000000</td>\n",
       "    </tr>\n",
       "  </tbody>\n",
       "</table>\n",
       "</div>"
      ],
      "text/plain": [
       "flag_doente        0    1  All  prob_doente  chance_doente  razao_chance  \\\n",
       "cp                                                                         \n",
       "asymptomatic      99  368  467     0.788009       3.717172      3.092371   \n",
       "atypical angina  144   23  167     0.137725       0.159722      0.132875   \n",
       "non-anginal      125   60  185     0.324324       0.480000      0.399319   \n",
       "typical angina    23   19   42     0.452381       0.826087      0.687234   \n",
       "All              391  470  861     0.545877       1.202046      1.000000   \n",
       "\n",
       "flag_doente        logito       woe  \n",
       "cp                                   \n",
       "asymptomatic     1.312963  1.128938  \n",
       "atypical angina -1.834319 -2.018344  \n",
       "non-anginal     -0.733969 -0.917994  \n",
       "typical angina  -0.191055 -0.375080  \n",
       "All              0.184025  0.000000  "
      ]
     },
     "execution_count": 178,
     "metadata": {},
     "output_type": "execute_result"
    }
   ],
   "source": [
    "analise_bivariada(df, 'cp', 'flag_doente')"
   ]
  },
  {
   "cell_type": "markdown",
   "metadata": {},
   "source": [
    "2. Monte uma função semelhante para categorizar variáveis quantitativas contínuas (com muitas categorias) como ```age```.  \n",
    "    Além dos mesmos parâmetros da função anterior, defina mais um parâmetro como número de categorias que você deseja quebrar. Defina um valor '*default*' de 5 grupos para este parâmetro.  "
   ]
  },
  {
   "cell_type": "code",
   "execution_count": 179,
   "metadata": {},
   "outputs": [
    {
     "data": {
      "text/html": [
       "<div>\n",
       "<style scoped>\n",
       "    .dataframe tbody tr th:only-of-type {\n",
       "        vertical-align: middle;\n",
       "    }\n",
       "\n",
       "    .dataframe tbody tr th {\n",
       "        vertical-align: top;\n",
       "    }\n",
       "\n",
       "    .dataframe thead th {\n",
       "        text-align: right;\n",
       "    }\n",
       "</style>\n",
       "<table border=\"1\" class=\"dataframe\">\n",
       "  <thead>\n",
       "    <tr style=\"text-align: right;\">\n",
       "      <th>flag_doente</th>\n",
       "      <th>0</th>\n",
       "      <th>1</th>\n",
       "      <th>All</th>\n",
       "      <th>prob_doente</th>\n",
       "      <th>chance_doente</th>\n",
       "      <th>razao_chance</th>\n",
       "      <th>logito</th>\n",
       "      <th>woe</th>\n",
       "    </tr>\n",
       "    <tr>\n",
       "      <th>fbs</th>\n",
       "      <th></th>\n",
       "      <th></th>\n",
       "      <th></th>\n",
       "      <th></th>\n",
       "      <th></th>\n",
       "      <th></th>\n",
       "      <th></th>\n",
       "      <th></th>\n",
       "    </tr>\n",
       "  </thead>\n",
       "  <tbody>\n",
       "    <tr>\n",
       "      <th>False</th>\n",
       "      <td>337</td>\n",
       "      <td>319</td>\n",
       "      <td>656</td>\n",
       "      <td>0.486280</td>\n",
       "      <td>0.946588</td>\n",
       "      <td>0.903452</td>\n",
       "      <td>-0.054892</td>\n",
       "      <td>-0.101532</td>\n",
       "    </tr>\n",
       "    <tr>\n",
       "      <th>True</th>\n",
       "      <td>40</td>\n",
       "      <td>76</td>\n",
       "      <td>116</td>\n",
       "      <td>0.655172</td>\n",
       "      <td>1.900000</td>\n",
       "      <td>1.813418</td>\n",
       "      <td>0.641854</td>\n",
       "      <td>0.595213</td>\n",
       "    </tr>\n",
       "    <tr>\n",
       "      <th>All</th>\n",
       "      <td>377</td>\n",
       "      <td>395</td>\n",
       "      <td>772</td>\n",
       "      <td>0.511658</td>\n",
       "      <td>1.047745</td>\n",
       "      <td>1.000000</td>\n",
       "      <td>0.046641</td>\n",
       "      <td>0.000000</td>\n",
       "    </tr>\n",
       "  </tbody>\n",
       "</table>\n",
       "</div>"
      ],
      "text/plain": [
       "flag_doente    0    1  All  prob_doente  chance_doente  razao_chance  \\\n",
       "fbs                                                                    \n",
       "False        337  319  656     0.486280       0.946588      0.903452   \n",
       "True          40   76  116     0.655172       1.900000      1.813418   \n",
       "All          377  395  772     0.511658       1.047745      1.000000   \n",
       "\n",
       "flag_doente    logito       woe  \n",
       "fbs                              \n",
       "False       -0.054892 -0.101532  \n",
       "True         0.641854  0.595213  \n",
       "All          0.046641  0.000000  "
      ]
     },
     "execution_count": 179,
     "metadata": {},
     "output_type": "execute_result"
    }
   ],
   "source": [
    "analise_bivariada(df, 'fbs', 'flag_doente')"
   ]
  },
  {
   "cell_type": "code",
   "execution_count": 180,
   "metadata": {},
   "outputs": [
    {
     "data": {
      "text/html": [
       "<div>\n",
       "<style scoped>\n",
       "    .dataframe tbody tr th:only-of-type {\n",
       "        vertical-align: middle;\n",
       "    }\n",
       "\n",
       "    .dataframe tbody tr th {\n",
       "        vertical-align: top;\n",
       "    }\n",
       "\n",
       "    .dataframe thead th {\n",
       "        text-align: right;\n",
       "    }\n",
       "</style>\n",
       "<table border=\"1\" class=\"dataframe\">\n",
       "  <thead>\n",
       "    <tr style=\"text-align: right;\">\n",
       "      <th>flag_doente</th>\n",
       "      <th>0</th>\n",
       "      <th>1</th>\n",
       "      <th>All</th>\n",
       "      <th>prob_doente</th>\n",
       "      <th>chance_doente</th>\n",
       "      <th>razao_chance</th>\n",
       "      <th>logito</th>\n",
       "      <th>woe</th>\n",
       "    </tr>\n",
       "    <tr>\n",
       "      <th>sex</th>\n",
       "      <th></th>\n",
       "      <th></th>\n",
       "      <th></th>\n",
       "      <th></th>\n",
       "      <th></th>\n",
       "      <th></th>\n",
       "      <th></th>\n",
       "      <th></th>\n",
       "    </tr>\n",
       "  </thead>\n",
       "  <tbody>\n",
       "    <tr>\n",
       "      <th>Female</th>\n",
       "      <td>142</td>\n",
       "      <td>50</td>\n",
       "      <td>192</td>\n",
       "      <td>0.260417</td>\n",
       "      <td>0.352113</td>\n",
       "      <td>0.292928</td>\n",
       "      <td>-1.043804</td>\n",
       "      <td>-1.227829</td>\n",
       "    </tr>\n",
       "    <tr>\n",
       "      <th>Male</th>\n",
       "      <td>249</td>\n",
       "      <td>420</td>\n",
       "      <td>669</td>\n",
       "      <td>0.627803</td>\n",
       "      <td>1.686747</td>\n",
       "      <td>1.403230</td>\n",
       "      <td>0.522802</td>\n",
       "      <td>0.338777</td>\n",
       "    </tr>\n",
       "    <tr>\n",
       "      <th>All</th>\n",
       "      <td>391</td>\n",
       "      <td>470</td>\n",
       "      <td>861</td>\n",
       "      <td>0.545877</td>\n",
       "      <td>1.202046</td>\n",
       "      <td>1.000000</td>\n",
       "      <td>0.184025</td>\n",
       "      <td>0.000000</td>\n",
       "    </tr>\n",
       "  </tbody>\n",
       "</table>\n",
       "</div>"
      ],
      "text/plain": [
       "flag_doente    0    1  All  prob_doente  chance_doente  razao_chance  \\\n",
       "sex                                                                    \n",
       "Female       142   50  192     0.260417       0.352113      0.292928   \n",
       "Male         249  420  669     0.627803       1.686747      1.403230   \n",
       "All          391  470  861     0.545877       1.202046      1.000000   \n",
       "\n",
       "flag_doente    logito       woe  \n",
       "sex                              \n",
       "Female      -1.043804 -1.227829  \n",
       "Male         0.522802  0.338777  \n",
       "All          0.184025  0.000000  "
      ]
     },
     "execution_count": 180,
     "metadata": {},
     "output_type": "execute_result"
    }
   ],
   "source": [
    "analise_bivariada(df, 'sex', 'flag_doente')"
   ]
  },
  {
   "cell_type": "markdown",
   "metadata": {},
   "source": [
    "Pacientes sem dor no peito têm uma chance bem mais alta de estarem doentes que o restante, indicando que a variável $cp$ é uma boa preditora de pacientes doentes neste dataset."
   ]
  },
  {
   "cell_type": "markdown",
   "metadata": {},
   "source": [
    "3. Construa um modelo de regressão logística com as variáveis qualitativas: ```sex + cp +  trestbps``` e com a variável quantitativa ```age```.\n",
    "\n",
    "**Interprete os parâmetros.**"
   ]
  },
  {
   "cell_type": "code",
   "execution_count": 181,
   "metadata": {},
   "outputs": [
    {
     "name": "stdout",
     "output_type": "stream",
     "text": [
      "Optimization terminated successfully.\n",
      "         Current function value: 0.493475\n",
      "         Iterations 6\n"
     ]
    },
    {
     "data": {
      "text/html": [
       "<table class=\"simpletable\">\n",
       "<caption>Logit Regression Results</caption>\n",
       "<tr>\n",
       "  <th>Dep. Variable:</th>      <td>flag_doente</td>   <th>  No. Observations:  </th>  <td>   861</td>  \n",
       "</tr>\n",
       "<tr>\n",
       "  <th>Model:</th>                 <td>Logit</td>      <th>  Df Residuals:      </th>  <td>   855</td>  \n",
       "</tr>\n",
       "<tr>\n",
       "  <th>Method:</th>                 <td>MLE</td>       <th>  Df Model:          </th>  <td>     5</td>  \n",
       "</tr>\n",
       "<tr>\n",
       "  <th>Date:</th>            <td>Thu, 03 Nov 2022</td> <th>  Pseudo R-squ.:     </th>  <td>0.2837</td>  \n",
       "</tr>\n",
       "<tr>\n",
       "  <th>Time:</th>                <td>17:09:23</td>     <th>  Log-Likelihood:    </th> <td> -424.88</td> \n",
       "</tr>\n",
       "<tr>\n",
       "  <th>converged:</th>             <td>True</td>       <th>  LL-Null:           </th> <td> -593.17</td> \n",
       "</tr>\n",
       "<tr>\n",
       "  <th>Covariance Type:</th>     <td>nonrobust</td>    <th>  LLR p-value:       </th> <td>1.358e-70</td>\n",
       "</tr>\n",
       "</table>\n",
       "<table class=\"simpletable\">\n",
       "<tr>\n",
       "            <td></td>               <th>coef</th>     <th>std err</th>      <th>z</th>      <th>P>|z|</th>  <th>[0.025</th>    <th>0.975]</th>  \n",
       "</tr>\n",
       "<tr>\n",
       "  <th>Intercept</th>             <td>   -1.5096</td> <td>    0.634</td> <td>   -2.381</td> <td> 0.017</td> <td>   -2.752</td> <td>   -0.267</td>\n",
       "</tr>\n",
       "<tr>\n",
       "  <th>sex[T.Male]</th>           <td>    1.4783</td> <td>    0.215</td> <td>    6.879</td> <td> 0.000</td> <td>    1.057</td> <td>    1.900</td>\n",
       "</tr>\n",
       "<tr>\n",
       "  <th>cp[T.atypical angina]</th> <td>   -3.0846</td> <td>    0.259</td> <td>  -11.908</td> <td> 0.000</td> <td>   -3.592</td> <td>   -2.577</td>\n",
       "</tr>\n",
       "<tr>\n",
       "  <th>cp[T.non-anginal]</th>     <td>   -1.9990</td> <td>    0.202</td> <td>   -9.879</td> <td> 0.000</td> <td>   -2.396</td> <td>   -1.602</td>\n",
       "</tr>\n",
       "<tr>\n",
       "  <th>cp[T.typical angina]</th>  <td>   -1.5319</td> <td>    0.345</td> <td>   -4.438</td> <td> 0.000</td> <td>   -2.208</td> <td>   -0.855</td>\n",
       "</tr>\n",
       "<tr>\n",
       "  <th>trestbps</th>              <td>    0.0124</td> <td>    0.004</td> <td>    2.759</td> <td> 0.006</td> <td>    0.004</td> <td>    0.021</td>\n",
       "</tr>\n",
       "</table>"
      ],
      "text/plain": [
       "<class 'statsmodels.iolib.summary.Summary'>\n",
       "\"\"\"\n",
       "                           Logit Regression Results                           \n",
       "==============================================================================\n",
       "Dep. Variable:            flag_doente   No. Observations:                  861\n",
       "Model:                          Logit   Df Residuals:                      855\n",
       "Method:                           MLE   Df Model:                            5\n",
       "Date:                Thu, 03 Nov 2022   Pseudo R-squ.:                  0.2837\n",
       "Time:                        17:09:23   Log-Likelihood:                -424.88\n",
       "converged:                       True   LL-Null:                       -593.17\n",
       "Covariance Type:            nonrobust   LLR p-value:                 1.358e-70\n",
       "=========================================================================================\n",
       "                            coef    std err          z      P>|z|      [0.025      0.975]\n",
       "-----------------------------------------------------------------------------------------\n",
       "Intercept                -1.5096      0.634     -2.381      0.017      -2.752      -0.267\n",
       "sex[T.Male]               1.4783      0.215      6.879      0.000       1.057       1.900\n",
       "cp[T.atypical angina]    -3.0846      0.259    -11.908      0.000      -3.592      -2.577\n",
       "cp[T.non-anginal]        -1.9990      0.202     -9.879      0.000      -2.396      -1.602\n",
       "cp[T.typical angina]     -1.5319      0.345     -4.438      0.000      -2.208      -0.855\n",
       "trestbps                  0.0124      0.004      2.759      0.006       0.004       0.021\n",
       "=========================================================================================\n",
       "\"\"\""
      ]
     },
     "execution_count": 181,
     "metadata": {},
     "output_type": "execute_result"
    }
   ],
   "source": [
    "modelo = smf.logit('flag_doente ~ sex + cp + trestbps', data=df).fit()\n",
    "modelo.summary()"
   ]
  },
  {
   "cell_type": "markdown",
   "metadata": {},
   "source": [
    "As três variáveis parecem estatisticamente significantes."
   ]
  },
  {
   "cell_type": "markdown",
   "metadata": {},
   "source": [
    "4. Avalie o seu modelo quanto a **calibragem**:\n",
    "- Calcule a probabilidade de evento predita segundo o seu modelo\n",
    "- Categorize essa probabilidade em G=5 grupos\n",
    "- Calcule a probabilidade de evento predita média por grupo\n",
    "- Calcule a taxa de eventos (média da variável indicadora de eventos) por grupo\n",
    "- Compare graficamente o valor eperado versus observado para a taxa de maus por grupo"
   ]
  },
  {
   "cell_type": "code",
   "execution_count": 182,
   "metadata": {},
   "outputs": [
    {
     "data": {
      "text/html": [
       "<div>\n",
       "<style scoped>\n",
       "    .dataframe tbody tr th:only-of-type {\n",
       "        vertical-align: middle;\n",
       "    }\n",
       "\n",
       "    .dataframe tbody tr th {\n",
       "        vertical-align: top;\n",
       "    }\n",
       "\n",
       "    .dataframe thead th {\n",
       "        text-align: right;\n",
       "    }\n",
       "</style>\n",
       "<table border=\"1\" class=\"dataframe\">\n",
       "  <thead>\n",
       "    <tr style=\"text-align: right;\">\n",
       "      <th></th>\n",
       "      <th>predito</th>\n",
       "      <th>real</th>\n",
       "    </tr>\n",
       "    <tr>\n",
       "      <th>predito</th>\n",
       "      <th></th>\n",
       "      <th></th>\n",
       "    </tr>\n",
       "  </thead>\n",
       "  <tbody>\n",
       "    <tr>\n",
       "      <th>(0.0327, 0.182]</th>\n",
       "      <td>0.117938</td>\n",
       "      <td>0.108696</td>\n",
       "    </tr>\n",
       "    <tr>\n",
       "      <th>(0.182, 0.457]</th>\n",
       "      <td>0.347140</td>\n",
       "      <td>0.348837</td>\n",
       "    </tr>\n",
       "    <tr>\n",
       "      <th>(0.457, 0.791]</th>\n",
       "      <td>0.621692</td>\n",
       "      <td>0.639752</td>\n",
       "    </tr>\n",
       "    <tr>\n",
       "      <th>(0.791, 0.838]</th>\n",
       "      <td>0.818890</td>\n",
       "      <td>0.835165</td>\n",
       "    </tr>\n",
       "    <tr>\n",
       "      <th>(0.838, 0.92]</th>\n",
       "      <td>0.860870</td>\n",
       "      <td>0.833333</td>\n",
       "    </tr>\n",
       "  </tbody>\n",
       "</table>\n",
       "</div>"
      ],
      "text/plain": [
       "                  predito      real\n",
       "predito                            \n",
       "(0.0327, 0.182]  0.117938  0.108696\n",
       "(0.182, 0.457]   0.347140  0.348837\n",
       "(0.457, 0.791]   0.621692  0.639752\n",
       "(0.791, 0.838]   0.818890  0.835165\n",
       "(0.838, 0.92]    0.860870  0.833333"
      ]
     },
     "execution_count": 182,
     "metadata": {},
     "output_type": "execute_result"
    }
   ],
   "source": [
    "df['predito'] = modelo.predict(df)\n",
    "qualid = pd.DataFrame()\n",
    "cat_prob = pd.qcut(df['predito'], 5)\n",
    "aggr_prob = df.groupby(cat_prob)\n",
    "qualid['predito'] = aggr_prob['predito'].mean()\n",
    "qualid['real'] = aggr_prob['flag_doente'].mean()\n",
    "qualid\n"
   ]
  },
  {
   "cell_type": "code",
   "execution_count": 183,
   "metadata": {},
   "outputs": [
    {
     "data": {
      "text/plain": [
       "<matplotlib.legend.Legend at 0x7f7f08ed26e0>"
      ]
     },
     "execution_count": 183,
     "metadata": {},
     "output_type": "execute_result"
    },
    {
     "data": {
      "image/png": "[encoded data removed]",
      "text/plain": [
       "<Figure size 640x480 with 1 Axes>"
      ]
     },
     "metadata": {},
     "output_type": "display_data"
    }
   ],
   "source": [
    "fig, ax = plt.subplots()\n",
    "cat_index = np.array([1, 2, 3, 4, 5])\n",
    "ax.set_xlabel('Grupo de probabilidade')\n",
    "ax.set_ylabel('Preobabilidade média.')\n",
    "ax.plot(cat_index, qualid.predito, label='Predito')\n",
    "ax.plot(cat_index, qualid.real, label='Real')\n",
    "ax.set_xticks(cat_index)\n",
    "ax.legend()"
   ]
  },
  {
   "cell_type": "markdown",
   "metadata": {},
   "source": [
    "O modelo parece bastante calibrado"
   ]
  },
  {
   "cell_type": "markdown",
   "metadata": {},
   "source": [
    "5. Avalie o seu modelo quanto a discriminação calculando acurácia, GINI e KS."
   ]
  },
  {
   "cell_type": "code",
   "execution_count": 184,
   "metadata": {},
   "outputs": [],
   "source": [
    "from sklearn import metrics\n",
    "from scipy.stats import ks_2samp"
   ]
  },
  {
   "cell_type": "code",
   "execution_count": 185,
   "metadata": {},
   "outputs": [
    {
     "name": "stdout",
     "output_type": "stream",
     "text": [
      "Acurácia: 77.5842044134727%\n"
     ]
    }
   ],
   "source": [
    "acuracia = metrics.accuracy_score(df['flag_doente'], df['predito'] > .5)\n",
    "print(f'Acurácia: {acuracia * 100}%')"
   ]
  },
  {
   "cell_type": "code",
   "execution_count": 186,
   "metadata": {},
   "outputs": [
    {
     "name": "stdout",
     "output_type": "stream",
     "text": [
      "KS: 0.5545192360015236\n"
     ]
    }
   ],
   "source": [
    "ks = ks_2samp(\n",
    "    df.loc[df['flag_doente'] == 1, 'predito'],\n",
    "    df.loc[df['flag_doente'] == 0, 'predito']\n",
    ").statistic\n",
    "print(f'KS: {ks}')"
   ]
  },
  {
   "cell_type": "code",
   "execution_count": 187,
   "metadata": {},
   "outputs": [
    {
     "name": "stdout",
     "output_type": "stream",
     "text": [
      "Gini: 0.65838820264461\n"
     ]
    }
   ],
   "source": [
    "fpr, tpr, thresholds = metrics.roc_curve(df['flag_doente'], df['predito'])\n",
    "auc_ = metrics.auc(fpr, tpr)\n",
    "gini = 2*auc_- 1\n",
    "print(f'Gini: {gini}')"
   ]
  },
  {
   "cell_type": "markdown",
   "metadata": {},
   "source": [
    "6. tente melhorar o modelo obtido, por exemplo inserindo ou removendo variáveis.  \n",
    "    Avalie as características do seu modelo (calibragem e acurácia)."
   ]
  },
  {
   "cell_type": "code",
   "execution_count": 188,
   "metadata": {},
   "outputs": [
    {
     "data": {
      "text/plain": [
       "age              0\n",
       "sex              0\n",
       "cp               0\n",
       "trestbps         0\n",
       "chol             0\n",
       "fbs              0\n",
       "restecg          0\n",
       "thalch           0\n",
       "exang            0\n",
       "oldpeak          0\n",
       "slope          209\n",
       "ca             437\n",
       "thal           340\n",
       "num              0\n",
       "flag_doente      0\n",
       "predito          0\n",
       "dtype: int64"
      ]
     },
     "execution_count": 188,
     "metadata": {},
     "output_type": "execute_result"
    }
   ],
   "source": [
    "df.dropna(axis='index', subset=['fbs', 'chol', 'oldpeak', 'restecg'], inplace=True)\n",
    "df.isna().sum()"
   ]
  },
  {
   "cell_type": "code",
   "execution_count": 189,
   "metadata": {},
   "outputs": [
    {
     "name": "stdout",
     "output_type": "stream",
     "text": [
      "Optimization terminated successfully.\n",
      "         Current function value: 0.426388\n",
      "         Iterations 6\n"
     ]
    },
    {
     "data": {
      "text/html": [
       "<table class=\"simpletable\">\n",
       "<caption>Logit Regression Results</caption>\n",
       "<tr>\n",
       "  <th>Dep. Variable:</th>      <td>flag_doente</td>   <th>  No. Observations:  </th>  <td>   740</td>  \n",
       "</tr>\n",
       "<tr>\n",
       "  <th>Model:</th>                 <td>Logit</td>      <th>  Df Residuals:      </th>  <td>   731</td>  \n",
       "</tr>\n",
       "<tr>\n",
       "  <th>Method:</th>                 <td>MLE</td>       <th>  Df Model:          </th>  <td>     8</td>  \n",
       "</tr>\n",
       "<tr>\n",
       "  <th>Date:</th>            <td>Thu, 03 Nov 2022</td> <th>  Pseudo R-squ.:     </th>  <td>0.3843</td>  \n",
       "</tr>\n",
       "<tr>\n",
       "  <th>Time:</th>                <td>17:09:23</td>     <th>  Log-Likelihood:    </th> <td> -315.53</td> \n",
       "</tr>\n",
       "<tr>\n",
       "  <th>converged:</th>             <td>True</td>       <th>  LL-Null:           </th> <td> -512.47</td> \n",
       "</tr>\n",
       "<tr>\n",
       "  <th>Covariance Type:</th>     <td>nonrobust</td>    <th>  LLR p-value:       </th> <td>3.797e-80</td>\n",
       "</tr>\n",
       "</table>\n",
       "<table class=\"simpletable\">\n",
       "<tr>\n",
       "            <td></td>               <th>coef</th>     <th>std err</th>      <th>z</th>      <th>P>|z|</th>  <th>[0.025</th>    <th>0.975]</th>  \n",
       "</tr>\n",
       "<tr>\n",
       "  <th>Intercept</th>             <td>    1.1936</td> <td>    0.643</td> <td>    1.856</td> <td> 0.063</td> <td>   -0.067</td> <td>    2.454</td>\n",
       "</tr>\n",
       "<tr>\n",
       "  <th>sex[T.Male]</th>           <td>    1.2979</td> <td>    0.248</td> <td>    5.227</td> <td> 0.000</td> <td>    0.811</td> <td>    1.785</td>\n",
       "</tr>\n",
       "<tr>\n",
       "  <th>cp[T.atypical angina]</th> <td>   -1.9005</td> <td>    0.295</td> <td>   -6.446</td> <td> 0.000</td> <td>   -2.478</td> <td>   -1.323</td>\n",
       "</tr>\n",
       "<tr>\n",
       "  <th>cp[T.non-anginal]</th>     <td>   -1.3816</td> <td>    0.245</td> <td>   -5.629</td> <td> 0.000</td> <td>   -1.863</td> <td>   -0.901</td>\n",
       "</tr>\n",
       "<tr>\n",
       "  <th>cp[T.typical angina]</th>  <td>   -1.2679</td> <td>    0.433</td> <td>   -2.928</td> <td> 0.003</td> <td>   -2.117</td> <td>   -0.419</td>\n",
       "</tr>\n",
       "<tr>\n",
       "  <th>fbs[T.True]</th>           <td>    0.6603</td> <td>    0.283</td> <td>    2.334</td> <td> 0.020</td> <td>    0.106</td> <td>    1.215</td>\n",
       "</tr>\n",
       "<tr>\n",
       "  <th>exang[T.True]</th>         <td>    1.0450</td> <td>    0.227</td> <td>    4.606</td> <td> 0.000</td> <td>    0.600</td> <td>    1.490</td>\n",
       "</tr>\n",
       "<tr>\n",
       "  <th>thalch</th>                <td>   -0.0173</td> <td>    0.004</td> <td>   -4.148</td> <td> 0.000</td> <td>   -0.025</td> <td>   -0.009</td>\n",
       "</tr>\n",
       "<tr>\n",
       "  <th>oldpeak</th>               <td>    0.6547</td> <td>    0.112</td> <td>    5.852</td> <td> 0.000</td> <td>    0.435</td> <td>    0.874</td>\n",
       "</tr>\n",
       "</table>"
      ],
      "text/plain": [
       "<class 'statsmodels.iolib.summary.Summary'>\n",
       "\"\"\"\n",
       "                           Logit Regression Results                           \n",
       "==============================================================================\n",
       "Dep. Variable:            flag_doente   No. Observations:                  740\n",
       "Model:                          Logit   Df Residuals:                      731\n",
       "Method:                           MLE   Df Model:                            8\n",
       "Date:                Thu, 03 Nov 2022   Pseudo R-squ.:                  0.3843\n",
       "Time:                        17:09:23   Log-Likelihood:                -315.53\n",
       "converged:                       True   LL-Null:                       -512.47\n",
       "Covariance Type:            nonrobust   LLR p-value:                 3.797e-80\n",
       "=========================================================================================\n",
       "                            coef    std err          z      P>|z|      [0.025      0.975]\n",
       "-----------------------------------------------------------------------------------------\n",
       "Intercept                 1.1936      0.643      1.856      0.063      -0.067       2.454\n",
       "sex[T.Male]               1.2979      0.248      5.227      0.000       0.811       1.785\n",
       "cp[T.atypical angina]    -1.9005      0.295     -6.446      0.000      -2.478      -1.323\n",
       "cp[T.non-anginal]        -1.3816      0.245     -5.629      0.000      -1.863      -0.901\n",
       "cp[T.typical angina]     -1.2679      0.433     -2.928      0.003      -2.117      -0.419\n",
       "fbs[T.True]               0.6603      0.283      2.334      0.020       0.106       1.215\n",
       "exang[T.True]             1.0450      0.227      4.606      0.000       0.600       1.490\n",
       "thalch                   -0.0173      0.004     -4.148      0.000      -0.025      -0.009\n",
       "oldpeak                   0.6547      0.112      5.852      0.000       0.435       0.874\n",
       "=========================================================================================\n",
       "\"\"\""
      ]
     },
     "execution_count": 189,
     "metadata": {},
     "output_type": "execute_result"
    }
   ],
   "source": [
    "modelo = smf.logit('flag_doente ~ sex + cp + fbs + thalch + exang + oldpeak', data=df).fit()\n",
    "modelo.summary()"
   ]
  },
  {
   "cell_type": "code",
   "execution_count": 190,
   "metadata": {},
   "outputs": [
    {
     "data": {
      "text/html": [
       "<div>\n",
       "<style scoped>\n",
       "    .dataframe tbody tr th:only-of-type {\n",
       "        vertical-align: middle;\n",
       "    }\n",
       "\n",
       "    .dataframe tbody tr th {\n",
       "        vertical-align: top;\n",
       "    }\n",
       "\n",
       "    .dataframe thead th {\n",
       "        text-align: right;\n",
       "    }\n",
       "</style>\n",
       "<table border=\"1\" class=\"dataframe\">\n",
       "  <thead>\n",
       "    <tr style=\"text-align: right;\">\n",
       "      <th></th>\n",
       "      <th>predito</th>\n",
       "      <th>real</th>\n",
       "    </tr>\n",
       "    <tr>\n",
       "      <th>predito</th>\n",
       "      <th></th>\n",
       "      <th></th>\n",
       "    </tr>\n",
       "  </thead>\n",
       "  <tbody>\n",
       "    <tr>\n",
       "      <th>(0.0172, 0.13]</th>\n",
       "      <td>0.074659</td>\n",
       "      <td>0.060811</td>\n",
       "    </tr>\n",
       "    <tr>\n",
       "      <th>(0.13, 0.376]</th>\n",
       "      <td>0.228367</td>\n",
       "      <td>0.236486</td>\n",
       "    </tr>\n",
       "    <tr>\n",
       "      <th>(0.376, 0.681]</th>\n",
       "      <td>0.528397</td>\n",
       "      <td>0.540541</td>\n",
       "    </tr>\n",
       "    <tr>\n",
       "      <th>(0.681, 0.902]</th>\n",
       "      <td>0.810319</td>\n",
       "      <td>0.810811</td>\n",
       "    </tr>\n",
       "    <tr>\n",
       "      <th>(0.902, 0.995]</th>\n",
       "      <td>0.946095</td>\n",
       "      <td>0.939189</td>\n",
       "    </tr>\n",
       "  </tbody>\n",
       "</table>\n",
       "</div>"
      ],
      "text/plain": [
       "                 predito      real\n",
       "predito                           \n",
       "(0.0172, 0.13]  0.074659  0.060811\n",
       "(0.13, 0.376]   0.228367  0.236486\n",
       "(0.376, 0.681]  0.528397  0.540541\n",
       "(0.681, 0.902]  0.810319  0.810811\n",
       "(0.902, 0.995]  0.946095  0.939189"
      ]
     },
     "execution_count": 190,
     "metadata": {},
     "output_type": "execute_result"
    }
   ],
   "source": [
    "df['predito'] = modelo.predict(df)\n",
    "qualid = pd.DataFrame()\n",
    "cat_prob = pd.qcut(df['predito'], 5)\n",
    "aggr_prob = df.groupby(cat_prob)\n",
    "qualid['predito'] = aggr_prob['predito'].mean()\n",
    "qualid['real'] = aggr_prob['flag_doente'].mean()\n",
    "qualid"
   ]
  },
  {
   "cell_type": "code",
   "execution_count": 191,
   "metadata": {},
   "outputs": [
    {
     "data": {
      "text/plain": [
       "<matplotlib.legend.Legend at 0x7f7f08b55600>"
      ]
     },
     "execution_count": 191,
     "metadata": {},
     "output_type": "execute_result"
    },
    {
     "data": {
      "image/png": "[encoded data removed]",
      "text/plain": [
       "<Figure size 640x480 with 1 Axes>"
      ]
     },
     "metadata": {},
     "output_type": "display_data"
    }
   ],
   "source": [
    "fig, ax = plt.subplots()\n",
    "cat_index = np.array([1, 2, 3, 4, 5])\n",
    "ax.set_xlabel('Grupo de probabilidade')\n",
    "ax.set_ylabel('Preobabilidade média.')\n",
    "ax.plot(cat_index, qualid.predito, label='Predito')\n",
    "ax.plot(cat_index, qualid.real, label='Real')\n",
    "ax.set_xticks(cat_index)\n",
    "ax.legend()"
   ]
  },
  {
   "cell_type": "code",
   "execution_count": 192,
   "metadata": {},
   "outputs": [
    {
     "name": "stdout",
     "output_type": "stream",
     "text": [
      "KS: 0.6173508567918029\n"
     ]
    }
   ],
   "source": [
    "ks = ks_2samp(\n",
    "    df.loc[df['flag_doente'] == 1, 'predito'],\n",
    "    df.loc[df['flag_doente'] == 0, 'predito']\n",
    ").statistic\n",
    "print(f'KS: {ks}')"
   ]
  },
  {
   "cell_type": "code",
   "execution_count": 193,
   "metadata": {},
   "outputs": [
    {
     "name": "stdout",
     "output_type": "stream",
     "text": [
      "Acurácia: 79.32432432432432%\n"
     ]
    }
   ],
   "source": [
    "acuracia = metrics.accuracy_score(df['flag_doente'], df['predito'] > .5)\n",
    "print(f'Acurácia: {acuracia * 100}%')"
   ]
  }
 ],
 "metadata": {
  "kernelspec": {
   "display_name": "Python 3.10.6 64-bit",
   "language": "python",
   "name": "python3"
  },
  "language_info": {
   "codemirror_mode": {
    "name": "ipython",
    "version": 3
   },
   "file_extension": ".py",
   "mimetype": "text/x-python",
   "name": "python",
   "nbconvert_exporter": "python",
   "pygments_lexer": "ipython3",
   "version": "3.10.6"
  },
  "vscode": {
   "interpreter": {
    "hash": "916dbcbb3f70747c44a77c7bcd40155683ae19c65e1c03b4aa3499c5328201f1"
   }
  }
 },
 "nbformat": 4,
 "nbformat_minor": 4
}
